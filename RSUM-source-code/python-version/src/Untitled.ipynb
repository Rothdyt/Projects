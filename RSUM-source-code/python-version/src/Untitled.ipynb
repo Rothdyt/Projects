{
 "cells": [
  {
   "cell_type": "code",
   "execution_count": 61,
   "metadata": {
    "ExecuteTime": {
     "end_time": "2019-07-24T07:50:47.272648Z",
     "start_time": "2019-07-24T07:50:47.264550Z"
    }
   },
   "outputs": [],
   "source": [
    "import pickle\n",
    "def get_report(folder, name, mylambda):\n",
    "    rcsum = pickle.load(open(\"../db/logs/{}/{}/rcsum_{}.pkl\".format(folder, name, mylambda), \"rb\"))\n",
    "    csum = pickle.load(open(\"../db/logs/{}/{}/csum_{}.pkl\".format(folder, name, mylambda), \"rb\"))\n",
    "    cgd = pickle.load(open(\"../db/logs/{}/{}/cgd_{}.pkl\".format(folder, name, mylambda), \"rb\"))\n",
    "    apcg = pickle.load(open(\"../db/logs/{}/{}/apcg_{}.pkl\".format(folder, name, mylambda), \"rb\"))\n",
    "    performance = [rcsum['time_used']/rcsum['epoch'],\n",
    "                   csum['time_used']/csum['epoch'],\n",
    "                   cgd['time_used']/cgd['epoch'],\n",
    "                   apcg['time_used']/apcg['epoch']]\n",
    " \n",
    "    print(\"{{}} & {} & {:.3f}/{:.3f}/{} & {:.3f}/{:.3f}/{} & {:.3f}/{:.3f}/{} & {:.3f}/{:.3f}/{} \\\\\\ \\cmidrule(l){{2-6}}\".format(\n",
    "        mylambda,\n",
    "        rcsum['time_used'], performance[0], rcsum['epoch'],\n",
    "        csum['time_used'],  performance[1], csum['epoch'],\n",
    "        cgd['time_used'],   performance[2], cgd['epoch'],\n",
    "        apcg['time_used'],  performance[3], apcg['epoch']))"
   ]
  },
  {
   "cell_type": "code",
   "execution_count": 62,
   "metadata": {
    "ExecuteTime": {
     "end_time": "2019-07-24T07:50:48.237159Z",
     "start_time": "2019-07-24T07:50:48.223392Z"
    }
   },
   "outputs": [
    {
     "name": "stdout",
     "output_type": "stream",
     "text": [
      "{} & 0.1 & 9.116/0.829/11 & 10.061/0.838/12 & 28.202/2.169/13 & 28.470/2.373/12 \\\\ \\cmidrule(l){2-6}\n",
      "{} & 0.01 & 78.369/0.800/98 & 71.650/0.796/90 & 90.766/2.214/41 & 210.886/2.424/87 \\\\ \\cmidrule(l){2-6}\n",
      "{} & 0.001 & 237.854/0.840/283 & 269.655/0.840/321 & 84.746/2.230/38 & 639.870/2.480/258 \\\\ \\cmidrule(l){2-6}\n",
      "{} & 0.0001 & 288.141/0.900/320 & 325.670/0.900/362 & 92.808/2.730/34 & 757.531/2.577/294 \\\\ \\cmidrule(l){2-6}\n",
      "{} & 1e-05 & 36.006/0.857/42 & 37.925/0.862/44 & 51.785/2.158/24 & 86.761/2.479/35 \\\\ \\cmidrule(l){2-6}\n",
      "{} & 1e-06 & 26.457/0.882/30 & 26.278/0.876/30 & 19.556/2.173/9 & 64.149/2.467/26 \\\\ \\cmidrule(l){2-6}\n"
     ]
    }
   ],
   "source": [
    "folder = 'new'\n",
    "name = 'BreastCancerDuke'\n",
    "mylambdas = ['0.1', '0.01', '0.001', '0.0001', '1e-05', '1e-06']\n",
    "for mylambda in mylambdas:\n",
    "    get_report(folder, name, mylambda)"
   ]
  },
  {
   "cell_type": "code",
   "execution_count": 64,
   "metadata": {
    "ExecuteTime": {
     "end_time": "2019-07-24T07:52:07.154138Z",
     "start_time": "2019-07-24T07:52:07.141383Z"
    }
   },
   "outputs": [
    {
     "name": "stdout",
     "output_type": "stream",
     "text": [
      "{} & 0.1 & 0.060/0.002/28 & 0.028/0.002/14 & 0.039/0.004/10 & 0.006/0.003/2 \\\\ \\cmidrule(l){2-6}\n",
      "{} & 0.01 & 0.208/0.002/99 & 0.107/0.002/52 & 0.053/0.004/12 & 0.131/0.003/45 \\\\ \\cmidrule(l){2-6}\n",
      "{} & 0.001 & 0.187/0.002/87 & 0.262/0.002/123 & 0.028/0.004/7 & 0.262/0.003/88 \\\\ \\cmidrule(l){2-6}\n",
      "{} & 0.0001 & 0.309/0.002/141 & 0.318/0.002/142 & 0.035/0.004/8 & 0.352/0.003/118 \\\\ \\cmidrule(l){2-6}\n",
      "{} & 1e-05 & 0.258/0.002/113 & 0.325/0.002/147 & 0.039/0.004/9 & 0.193/0.003/64 \\\\ \\cmidrule(l){2-6}\n",
      "{} & 1e-06 & 0.322/0.002/139 & 0.327/0.002/147 & 0.040/0.004/9 & 0.293/0.003/96 \\\\ \\cmidrule(l){2-6}\n",
      "\\hline\n"
     ]
    }
   ],
   "source": [
    "folder = 'new'\n",
    "name = 'wisc-b'\n",
    "mylambdas = ['0.1', '0.01', '0.001', '0.0001', '1e-05', '1e-06']\n",
    "for mylambda in mylambdas:\n",
    "    get_report(folder, name, mylambda)\n",
    "print('\\hline')"
   ]
  },
  {
   "cell_type": "code",
   "execution_count": 65,
   "metadata": {
    "ExecuteTime": {
     "end_time": "2019-07-24T07:54:30.018224Z",
     "start_time": "2019-07-24T07:54:29.990314Z"
    }
   },
   "outputs": [
    {
     "name": "stdout",
     "output_type": "stream",
     "text": [
      "{} & 0.1 & 0.295/0.074/4 & 0.292/0.073/4 & 0.406/0.135/3 & 0.164/0.082/2 \\\\ \\cmidrule(l){2-6}\n",
      "{} & 0.01 & 4.117/0.074/56 & 3.969/0.076/52 & 2.108/0.132/16 & 3.718/0.085/44 \\\\ \\cmidrule(l){2-6}\n",
      "{} & 0.001 & 16.771/0.074/228 & 16.502/0.073/225 & 4.623/0.132/35 & 9.268/0.084/110 \\\\ \\cmidrule(l){2-6}\n",
      "{} & 0.0001 & 24.328/0.072/338 & 23.919/0.072/334 & 5.950/0.132/45 & 11.462/0.077/149 \\\\ \\cmidrule(l){2-6}\n",
      "{} & 1e-05 & 25.679/0.072/356 & 25.378/0.072/352 & 6.071/0.132/46 & 12.697/0.077/165 \\\\ \\cmidrule(l){2-6}\n",
      "{} & 1e-06 & 26.249/0.073/358 & 26.295/0.074/354 & 6.162/0.134/46 & 13.500/0.084/160 \\\\ \\cmidrule(l){2-6}\n",
      "\\hline\n"
     ]
    }
   ],
   "source": [
    "folder = 'new'\n",
    "name = 'rnaCod'\n",
    "mylambdas = ['0.1', '0.01', '0.001', '0.0001', '1e-05', '1e-06']\n",
    "for mylambda in mylambdas:\n",
    "    get_report(folder, name, mylambda)\n",
    "print('\\hline')"
   ]
  },
  {
   "cell_type": "code",
   "execution_count": 66,
   "metadata": {
    "ExecuteTime": {
     "end_time": "2019-07-24T07:57:57.474572Z",
     "start_time": "2019-07-24T07:57:57.420769Z"
    }
   },
   "outputs": [
    {
     "name": "stdout",
     "output_type": "stream",
     "text": [
      "{} & 0.1 & 10.015/0.835/12 & 19.372/0.842/23 & 42.753/2.250/19 & 33.675/2.405/14 \\\\ \\cmidrule(l){2-6}\n",
      "{} & 0.01 & 128.671/0.852/151 & 127.773/0.852/150 & 101.286/2.251/45 & 249.853/2.474/101 \\\\ \\cmidrule(l){2-6}\n",
      "{} & 0.001 & 274.145/0.844/325 & 283.112/0.845/335 & 130.947/2.258/58 & 617.087/2.539/243 \\\\ \\cmidrule(l){2-6}\n",
      "{} & 0.0001 & 448.985/0.847/530 & 521.786/0.846/617 & 91.953/2.243/41 & 694.319/2.553/272 \\\\ \\cmidrule(l){2-6}\n",
      "{} & 1e-05 & 33.690/0.887/38 & 32.273/0.896/36 & 74.365/2.253/33 & 47.906/2.521/19 \\\\ \\cmidrule(l){2-6}\n",
      "{} & 1e-06 & 25.895/0.893/29 & 26.283/0.906/29 & 17.984/2.248/8 & 41.892/2.618/16 \\\\ \\cmidrule(l){2-6}\n",
      "\\hline\n"
     ]
    }
   ],
   "source": [
    "folder = 'new'\n",
    "name = 'Leukemia'\n",
    "mylambdas = ['0.1', '0.01', '0.001', '0.0001', '1e-05', '1e-06']\n",
    "for mylambda in mylambdas:\n",
    "    get_report(folder, name, mylambda)\n",
    "print('\\hline')"
   ]
  },
  {
   "cell_type": "code",
   "execution_count": 67,
   "metadata": {
    "ExecuteTime": {
     "end_time": "2019-07-24T08:08:55.576325Z",
     "start_time": "2019-07-24T08:08:55.565358Z"
    }
   },
   "outputs": [
    {
     "name": "stdout",
     "output_type": "stream",
     "text": [
      "{} & 0.1 & 4.539/2.269/2 & 4.576/2.288/2 & 9.089/4.545/2 & 4.881/2.440/2 \\\\ \\cmidrule(l){2-6}\n",
      "{} & 0.01 & 43.626/2.296/19 & 38.817/2.283/17 & 50.251/4.568/11 & 39.218/2.451/16 \\\\ \\cmidrule(l){2-6}\n",
      "{} & 0.001 & 80.448/2.299/35 & 101.100/2.298/44 & 141.201/4.555/31 & 105.443/2.452/43 \\\\ \\cmidrule(l){2-6}\n",
      "{} & 0.0001 & 101.603/2.309/44 & 98.522/2.291/43 & 68.422/4.561/15 & 122.408/2.448/50 \\\\ \\cmidrule(l){2-6}\n",
      "{} & 1e-05 & 100.690/2.288/44 & 103.095/2.291/45 & 63.918/4.566/14 & 105.327/2.449/43 \\\\ \\cmidrule(l){2-6}\n",
      "{} & 1e-06 & 102.983/2.289/45 & 102.878/2.286/45 & 59.722/4.266/14 & 88.130/2.448/36 \\\\ \\cmidrule(l){2-6}\n",
      "\\hline\n"
     ]
    }
   ],
   "source": [
    "folder = 'new'\n",
    "name = 'covtype'\n",
    "mylambdas = ['0.1', '0.01', '0.001', '0.0001', '1e-05', '1e-06']\n",
    "for mylambda in mylambdas:\n",
    "    get_report(folder, name, mylambda)\n",
    "print('\\hline')"
   ]
  },
  {
   "cell_type": "code",
   "execution_count": 71,
   "metadata": {
    "ExecuteTime": {
     "end_time": "2019-07-24T08:32:55.878499Z",
     "start_time": "2019-07-24T08:32:55.866833Z"
    }
   },
   "outputs": [
    {
     "name": "stdout",
     "output_type": "stream",
     "text": [
      "{} & 0.1 & 0.007/0.002/3 & 0.005/0.002/3 & 0.010/0.003/3 & 0.009/0.002/4 \\\\ \\cmidrule(l){2-6}\n",
      "{} & 0.01 & 0.014/0.002/8 & 0.014/0.002/8 & 0.017/0.003/5 & 0.027/0.002/11 \\\\ \\cmidrule(l){2-6}\n",
      "{} & 0.001 & 0.022/0.002/12 & 0.020/0.002/11 & 0.017/0.003/5 & 0.035/0.004/10 \\\\ \\cmidrule(l){2-6}\n",
      "{} & 0.0001 & 0.024/0.002/13 & 0.022/0.002/12 & 0.017/0.003/5 & 0.032/0.002/13 \\\\ \\cmidrule(l){2-6}\n",
      "{} & 1e-05 & 0.022/0.002/12 & 0.022/0.002/12 & 0.017/0.003/5 & 0.043/0.003/17 \\\\ \\cmidrule(l){2-6}\n",
      "{} & 1e-06 & 0.025/0.002/13 & 0.022/0.002/12 & 0.018/0.004/5 & 0.033/0.003/13 \\\\ \\cmidrule(l){2-6}\n",
      "\\hline\n"
     ]
    }
   ],
   "source": [
    "folder = 'new'\n",
    "name = 'diabetes'\n",
    "mylambdas = ['0.1', '0.01', '0.001', '0.0001', '1e-05', '1e-06']\n",
    "for mylambda in mylambdas:\n",
    "    get_report(folder, name, mylambda)\n",
    "print('\\hline')"
   ]
  },
  {
   "cell_type": "code",
   "execution_count": null,
   "metadata": {},
   "outputs": [],
   "source": [
    "folder = 'colon'\n",
    "name = 'diabetes'\n",
    "mylambdas = ['0.1',  '0.001', '1e-05']\n",
    "for mylambda in mylambdas:\n",
    "    get_report(folder, name, mylambda)\n",
    "print('\\hline')"
   ]
  }
 ],
 "metadata": {
  "kernelspec": {
   "display_name": "Python 3",
   "language": "python",
   "name": "python3"
  },
  "language_info": {
   "codemirror_mode": {
    "name": "ipython",
    "version": 3
   },
   "file_extension": ".py",
   "mimetype": "text/x-python",
   "name": "python",
   "nbconvert_exporter": "python",
   "pygments_lexer": "ipython3",
   "version": "3.6.8"
  },
  "toc": {
   "colors": {
    "hover_highlight": "#DAA520",
    "navigate_num": "#000000",
    "navigate_text": "#333333",
    "running_highlight": "#FF0000",
    "selected_highlight": "#FFD700",
    "sidebar_border": "#EEEEEE",
    "wrapper_background": "#FFFFFF"
   },
   "moveMenuLeft": true,
   "nav_menu": {
    "height": "12px",
    "width": "252px"
   },
   "navigate_menu": true,
   "number_sections": true,
   "sideBar": true,
   "threshold": 4,
   "toc_cell": false,
   "toc_section_display": "block",
   "toc_window_display": false,
   "widenNotebook": false
  }
 },
 "nbformat": 4,
 "nbformat_minor": 2
}
